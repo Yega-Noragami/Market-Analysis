{
 "cells": [
  {
   "cell_type": "markdown",
   "id": "f0d31098",
   "metadata": {},
   "source": [
    "# Import libraries"
   ]
  },
  {
   "cell_type": "code",
   "execution_count": 139,
   "id": "b5770630",
   "metadata": {},
   "outputs": [],
   "source": [
    "import datetime as datetime\n",
    "import numpy as np\n",
    "import pandas as pd\n",
    "import pandas_datareader.data as web"
   ]
  },
  {
   "cell_type": "code",
   "execution_count": 140,
   "id": "a7d97116",
   "metadata": {
    "scrolled": false
   },
   "outputs": [],
   "source": [
    "# function to retrieve stock data form yahoo server \n",
    "def getdata(companyCode):\n",
    "    start = datetime.datetime(2012, 1, 1)\n",
    "    end = datetime.datetime(2022, 1, 1)\n",
    "    df = web.DataReader(companyCode, 'yahoo', start, end)\n",
    "    df[\"CompanyCode\"]=companyCode\n",
    "    return df\n",
    "def getTickData():\n",
    "    # change stock name for the one's you are interested to->\n",
    "    TechList = [\"AAPL\" , \"MSFT\" , \"GOOG\" , \"AMZN\", \"TSLA\" , \"TCEHY\" , \"TSM\", \"META\" , \"NVDA\" , \"BABA\"]\n",
    "    alldata=[] # for storing all values\n",
    "    for items in TechList:\n",
    "        individualData = getdata(items)\n",
    "        dataList = individualData.values.tolist()\n",
    "        for items in dataList:\n",
    "            alldata.append(items)\n",
    "    \n",
    "    return alldata\n",
    "def saveCSV():\n",
    "\n",
    "    dataList = getTickData()\n",
    "    np.savetxt(\"historic.csv\", dataList, delimiter=\",\", fmt =\"%s\")\n",
    "    \n",
    "def main():\n",
    "    saveCSV()\n",
    "\n",
    "if __name__ == \"__main__\":\n",
    "    main()"
   ]
  },
  {
   "cell_type": "code",
   "execution_count": null,
   "id": "86c017ba",
   "metadata": {},
   "outputs": [],
   "source": []
  },
  {
   "cell_type": "code",
   "execution_count": 141,
   "id": "e8892184",
   "metadata": {},
   "outputs": [],
   "source": []
  },
  {
   "cell_type": "code",
   "execution_count": null,
   "id": "483506e6",
   "metadata": {},
   "outputs": [],
   "source": []
  }
 ],
 "metadata": {
  "kernelspec": {
   "display_name": "Python 3 (ipykernel)",
   "language": "python",
   "name": "python3"
  },
  "language_info": {
   "codemirror_mode": {
    "name": "ipython",
    "version": 3
   },
   "file_extension": ".py",
   "mimetype": "text/x-python",
   "name": "python",
   "nbconvert_exporter": "python",
   "pygments_lexer": "ipython3",
   "version": "3.8.9"
  }
 },
 "nbformat": 4,
 "nbformat_minor": 5
}
